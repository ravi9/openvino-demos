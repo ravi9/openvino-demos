{
 "cells": [
  {
   "cell_type": "code",
   "execution_count": null,
   "metadata": {},
   "outputs": [],
   "source": [
    "!pip3 install --upgrade pip\n",
    "!pip3 install -r requirements.txt"
   ]
  },
  {
   "cell_type": "markdown",
   "metadata": {},
   "source": [
    "## Example 3: Convert Object Detection models to OpenVINO IR"
   ]
  },
  {
   "cell_type": "code",
   "execution_count": null,
   "metadata": {},
   "outputs": [],
   "source": [
    "from ov_utils import create_ir\n",
    "import os"
   ]
  },
  {
   "cell_type": "markdown",
   "metadata": {},
   "source": [
    "### Provide below details:\n",
    "\n",
    "#### URL and json for your model to the variables \"objdet_model_url\" and \"input_json\" respectively.\n",
    "#### S3 bucket name with \"sagemaker\" as part of the name (important for Sagemaker access) to the variable \"bucket_name\". Ex: sagemaker-ir-creation\n",
    "#### precision_type can be \"FP32\" or \"FP16\".\n",
    "\n",
    "#### NOTE: If the bucket does not exist then it will be created."
   ]
  },
  {
   "cell_type": "code",
   "execution_count": null,
   "metadata": {},
   "outputs": [],
   "source": [
    "objdet_model_url = \"Your_model_URL\"\n",
    "input_json = \"Your_json\"\n",
    "bucket_name = \"Your_bucket_name\"\n",
    "precision_type = \"Your_precision\""
   ]
  },
  {
   "cell_type": "markdown",
   "metadata": {},
   "source": [
    "#### Create IR params"
   ]
  },
  {
   "cell_type": "code",
   "execution_count": null,
   "metadata": {},
   "outputs": [],
   "source": [
    "model_name = objdet_model_url.split('/')[-1].replace('.tar.gz','')    \n",
    "output_dir = \"\".join([\"./\", model_name.replace('.','-'),\"-\",precision_type])\n",
    "create_ir_params = {\n",
    "    \"objdet_model_url\": objdet_model_url,\n",
    "    \"output_dir\": output_dir,\n",
    "    \"mo_params\": {\n",
    "        \"input_json\": input_json,\n",
    "        \"data_type\": precision_type,\n",
    "        \"model_name\": model_name\n",
    "    },\n",
    "    \"bucket_name\": bucket_name\n",
    "}"
   ]
  },
  {
   "cell_type": "markdown",
   "metadata": {},
   "source": [
    "### Start the IR creation and upload to S3."
   ]
  },
  {
   "cell_type": "code",
   "execution_count": null,
   "metadata": {},
   "outputs": [],
   "source": [
    "try:\n",
    "    create_ir(create_ir_params)\n",
    "    print (f\"IR files created for model:{model_name} and the same is uploaded in S3:{bucket_name}\")\n",
    "except Exception as err:\n",
    "    print(f\"FAILED: Please find the error details below:\")\n",
    "    print(err)"
   ]
  }
 ],
 "metadata": {
  "kernelspec": {
   "display_name": "conda_python3",
   "language": "python",
   "name": "conda_python3"
  },
  "language_info": {
   "codemirror_mode": {
    "name": "ipython",
    "version": 3
   },
   "file_extension": ".py",
   "mimetype": "text/x-python",
   "name": "python",
   "nbconvert_exporter": "python",
   "pygments_lexer": "ipython3",
   "version": "3.6.10"
  }
 },
 "nbformat": 4,
 "nbformat_minor": 4
}
